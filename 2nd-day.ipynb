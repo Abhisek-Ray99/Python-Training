{
 "cells": [
  {
   "cell_type": "code",
   "execution_count": 12,
   "metadata": {},
   "outputs": [],
   "source": [
    "import numpy as np"
   ]
  },
  {
   "cell_type": "code",
   "execution_count": 31,
   "metadata": {},
   "outputs": [
    {
     "name": "stdout",
     "output_type": "stream",
     "text": [
      "(5,)\n"
     ]
    }
   ],
   "source": [
    "arr = np.array([10, 2, 30, 4, 50])\n",
    "\n",
    "\n",
    "print(arr.shape)"
   ]
  },
  {
   "cell_type": "code",
   "execution_count": 34,
   "metadata": {},
   "outputs": [
    {
     "name": "stdout",
     "output_type": "stream",
     "text": [
      "sum of array elements\n",
      "96 \n",
      "\n",
      "sorted array is\n",
      "[ 2  4 10 30 50] \n",
      "\n",
      "array is sorted order:  [2, 4, 10, 30, 50]\n",
      "mean of array elements\n",
      "19.2 \n",
      "\n",
      "variance of array elements\n",
      "335.36 \n",
      "\n",
      "standard deviation of array elements\n",
      "18.312837027615355 \n",
      "\n",
      "median of array elements\n",
      "10.0\n"
     ]
    }
   ],
   "source": [
    "print(\"sum of array elements\")\n",
    "print(arr.sum(),\"\\n\")\n",
    "print(\"sorted array is\")\n",
    "print(np.sort(arr),\"\\n\")\n",
    "print(\"array is sorted order: \", sorted(arr))\n",
    "print(\"mean of array elements\")\n",
    "print(arr.mean(),\"\\n\")\n",
    "print(\"variance of array elements\")\n",
    "print(arr.var(),\"\\n\")\n",
    "print(\"standard deviation of array elements\")\n",
    "print(arr.std(),\"\\n\")\n",
    "print(\"median of array elements\")\n",
    "print(np.median(arr))\n"
   ]
  },
  {
   "cell_type": "code",
   "execution_count": 37,
   "metadata": {},
   "outputs": [
    {
     "name": "stdout",
     "output_type": "stream",
     "text": [
      "zeroth row:  [1 2 3]\n",
      "First row [4 5 6]\n",
      "Second Row, two values:  [4 5]\n"
     ]
    }
   ],
   "source": [
    "a1 = np.array([(1,2,3),(4,5,6)])\n",
    "print(\"zeroth row: \",a1[0])\n",
    "print(\"First row\", a1[1])\n",
    "print(\"Second Row, two values: \", a1[1, :2])\n"
   ]
  },
  {
   "cell_type": "code",
   "execution_count": 41,
   "metadata": {},
   "outputs": [
    {
     "name": "stdout",
     "output_type": "stream",
     "text": [
      "After slicing ,array becomes\n",
      " [[4 5]\n",
      " [7 8]]\n",
      "custom slicing ,array becomes\n",
      " [[3 5]\n",
      " [6 8]]\n"
     ]
    }
   ],
   "source": [
    "x = np.array([[0,1,2],[3,4,5],[6,7,8],[9,10,11]])\n",
    "z = x[1:3, 1:3] #(row, column)\n",
    "print(\"After slicing ,array becomes\\n\", z)\n",
    "\n",
    "y = x[1:3, [0,2]]\n",
    "print(\"custom slicing ,array becomes\\n\", y)\n",
    "\n",
    "\n"
   ]
  },
  {
   "cell_type": "code",
   "execution_count": 51,
   "metadata": {},
   "outputs": [
    {
     "name": "stdout",
     "output_type": "stream",
     "text": [
      "[1, 200, 3, 4, 6]\n"
     ]
    }
   ],
   "source": [
    "#change the value of the following tuples:\n",
    "\n",
    "a = [1,2,3,4,6]\n",
    "a[1] = 200\n",
    "print(a)"
   ]
  },
  {
   "cell_type": "code",
   "execution_count": 55,
   "metadata": {},
   "outputs": [
    {
     "name": "stdout",
     "output_type": "stream",
     "text": [
      "The items greater than 5 are\n",
      "[ 6  7  8  9  7 10]\n",
      "Printing the comparison of elements\n",
      "[False  True False False  True False False]\n",
      "[False  True False False  True False False]\n"
     ]
    }
   ],
   "source": [
    "# boolean indexing and comparison of array\n",
    "\n",
    "x = np.array([1,2,4,5,6,7,8,9,7,10])\n",
    "print(\"The items greater than 5 are\")\n",
    "print(x[x>5])\n",
    "m = np.array([2,7,4,7,9,4,7]) \n",
    "n = np.array([4,6,7,9,1,5,7])\n",
    "print(\"Printing the comparison of elements\")\n",
    "print(m>n)\n"
   ]
  },
  {
   "cell_type": "code",
   "execution_count": null,
   "metadata": {},
   "outputs": [],
   "source": [
    "# Now Find how many True values u can have in the comparison array for m & n\n",
    "f = np.array([1,3,5,7])\n",
    "g = np.array([])\n"
   ]
  }
 ],
 "metadata": {
  "interpreter": {
   "hash": "c569cd2e17f62341e0f08a54f9a867c3c0d3a6f67454072d7de41a8b5dff8343"
  },
  "kernelspec": {
   "display_name": "Python 3.9.6 64-bit",
   "language": "python",
   "name": "python3"
  },
  "language_info": {
   "codemirror_mode": {
    "name": "ipython",
    "version": 3
   },
   "file_extension": ".py",
   "mimetype": "text/x-python",
   "name": "python",
   "nbconvert_exporter": "python",
   "pygments_lexer": "ipython3",
   "version": "3.9.6"
  },
  "orig_nbformat": 4
 },
 "nbformat": 4,
 "nbformat_minor": 2
}
