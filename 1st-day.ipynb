{
 "cells": [
  {
   "cell_type": "code",
   "execution_count": 4,
   "metadata": {},
   "outputs": [
    {
     "name": "stdout",
     "output_type": "stream",
     "text": [
      "3\n"
     ]
    }
   ],
   "source": [
    "a = eval(input(\"Enter a: \"))\n",
    "b = eval(input(\"Enter b: \"))\n",
    "print(a+b)"
   ]
  },
  {
   "cell_type": "code",
   "execution_count": 5,
   "metadata": {},
   "outputs": [
    {
     "name": "stdout",
     "output_type": "stream",
     "text": [
      "Abhisek Ray\n"
     ]
    }
   ],
   "source": [
    "fname = input(\"Enter first name: \")\n",
    "lname = input(\"Enter last name: \")\n",
    "print(fname+ \" \"+lname)"
   ]
  },
  {
   "cell_type": "code",
   "execution_count": 7,
   "metadata": {},
   "outputs": [
    {
     "name": "stdout",
     "output_type": "stream",
     "text": [
      "Abcd\n",
      "Efkj\n"
     ]
    }
   ],
   "source": [
    "sname = input(\"Enter a word\")\n",
    "print(sname.capitalize())\n",
    "\n",
    "lname = input(\"Enter another word\")\n",
    "print(lname.capitalize())"
   ]
  },
  {
   "cell_type": "code",
   "execution_count": 9,
   "metadata": {},
   "outputs": [
    {
     "name": "stdout",
     "output_type": "stream",
     "text": [
      "['abc', 'def', 'dsfk']\n"
     ]
    }
   ],
   "source": [
    "word = \"abc-def-dsfk\"\n",
    "final_word = word.split(\"-\")\n",
    "print(final_word)"
   ]
  },
  {
   "cell_type": "code",
   "execution_count": 10,
   "metadata": {},
   "outputs": [
    {
     "name": "stdout",
     "output_type": "stream",
     "text": [
      "3\n"
     ]
    }
   ],
   "source": [
    "# count vowel in a word\n",
    "name = \"abcdwefwelkjsdfKK\"\n",
    "vow = \"aeiouAEIOU\"\n",
    "count = 0\n",
    "for i in name:\n",
    "    if i in vow:\n",
    "        count += 1\n",
    "\n",
    "print(count)"
   ]
  },
  {
   "cell_type": "code",
   "execution_count": 11,
   "metadata": {},
   "outputs": [
    {
     "name": "stdout",
     "output_type": "stream",
     "text": [
      "abXd\n"
     ]
    }
   ],
   "source": [
    "# Put \"x\" on the place of \"c\" in a word\n",
    "str2 = \"abcd\"\n",
    "newstr = \"\"\n",
    "for i in str2:\n",
    "    if i == \"c\":\n",
    "        newstr += \"X\"\n",
    "    else: newstr += i\n",
    "\n",
    "print(newstr)"
   ]
  },
  {
   "cell_type": "code",
   "execution_count": 12,
   "metadata": {},
   "outputs": [
    {
     "name": "stdout",
     "output_type": "stream",
     "text": [
      "skL\n"
     ]
    }
   ],
   "source": [
    "# replace the vowels in a string\n",
    "word = \"skLEIoU\"\n",
    "vowel = \"aeiouAEIOU\"\n",
    "for i in word:\n",
    "    if i in vowel:\n",
    "        word = word.replace(i,\"\")\n",
    "\n",
    "print(word)"
   ]
  },
  {
   "cell_type": "code",
   "execution_count": 13,
   "metadata": {},
   "outputs": [
    {
     "name": "stdout",
     "output_type": "stream",
     "text": [
      "ABCD\n",
      "abcd\n"
     ]
    }
   ],
   "source": [
    "string1 = \"abcd\"\n",
    "string2 = \"ABCD\"\n",
    "print(string1.upper())\n",
    "print(string2.lower())"
   ]
  },
  {
   "cell_type": "code",
   "execution_count": 14,
   "metadata": {},
   "outputs": [
    {
     "name": "stdout",
     "output_type": "stream",
     "text": [
      "False\n",
      "False\n",
      "False\n"
     ]
    }
   ],
   "source": [
    "word = \"abcd1234@#$%\"\n",
    "print(word.isdigit()) #is numeric or not\n",
    "print(word.isalnum()) #is alpha-numeric or not\n",
    "print(word.isalpha()) #is alphabet or not"
   ]
  },
  {
   "cell_type": "code",
   "execution_count": 15,
   "metadata": {},
   "outputs": [
    {
     "name": "stdout",
     "output_type": "stream",
     "text": [
      "[1, 2, 3, 4, 'a', 'b']\n"
     ]
    }
   ],
   "source": [
    "# list\n",
    "lst = [1,2,3,4,'a','b']\n",
    "print(lst)"
   ]
  },
  {
   "cell_type": "code",
   "execution_count": 18,
   "metadata": {},
   "outputs": [
    {
     "name": "stdout",
     "output_type": "stream",
     "text": [
      "abc+def+ght\n"
     ]
    }
   ],
   "source": [
    "# list separation\n",
    "lst = ['abc','def','ght']\n",
    "print(*lst, sep=\"\\n\")"
   ]
  },
  {
   "cell_type": "code",
   "execution_count": 24,
   "metadata": {},
   "outputs": [
    {
     "name": "stdout",
     "output_type": "stream",
     "text": [
      "[1, 2, 3, 4, 6, 54]\n"
     ]
    }
   ],
   "source": [
    "# sorting method\n",
    "lst = [1,4,2,54,3,6]\n",
    "lst.sort()\n",
    "print(lst)"
   ]
  },
  {
   "cell_type": "code",
   "execution_count": 58,
   "metadata": {},
   "outputs": [
    {
     "name": "stdout",
     "output_type": "stream",
     "text": [
      "5\n"
     ]
    }
   ],
   "source": [
    "# find the median in a list\n",
    "\n",
    "lst = [1,8,2,3,54,5,89]\n",
    "lst.sort()\n",
    "# 1 2 3 5 8 54\n",
    "size = len(lst)\n",
    "index = int(size/2)\n",
    "\n",
    "if(size % 2 != 0):\n",
    "    median = lst[index]\n",
    "    print(median)\n",
    "else:\n",
    "    median = (lst[index]+lst[index-1])/2\n",
    "    print(median)"
   ]
  },
  {
   "cell_type": "code",
   "execution_count": 45,
   "metadata": {},
   "outputs": [
    {
     "name": "stdout",
     "output_type": "stream",
     "text": [
      "[100, 1, 2, 3, 4, 5, 6]\n"
     ]
    }
   ],
   "source": [
    "lst = [1,2,3,4,5,6]\n",
    "lst.insert(0,100)\n",
    "print(lst)"
   ]
  },
  {
   "cell_type": "code",
   "execution_count": 48,
   "metadata": {},
   "outputs": [
    {
     "name": "stdout",
     "output_type": "stream",
     "text": [
      "[1, 2, 3, 4, 5, 6, 7, 8]\n"
     ]
    }
   ],
   "source": [
    "lst1 = [1,2,3,4]\n",
    "lst2 = [5,6,7,8]\n",
    "lst1.extend(lst2)\n",
    "print(lst1)"
   ]
  },
  {
   "cell_type": "code",
   "execution_count": 62,
   "metadata": {},
   "outputs": [
    {
     "name": "stdout",
     "output_type": "stream",
     "text": [
      "3\n",
      "2\n"
     ]
    }
   ],
   "source": [
    "lst = [1,2,3,4,3,4,3,5,6,7]\n",
    "print(lst.count(3))\n",
    "print(lst.count(4))"
   ]
  },
  {
   "cell_type": "code",
   "execution_count": 67,
   "metadata": {},
   "outputs": [
    {
     "name": "stdout",
     "output_type": "stream",
     "text": [
      "{'num': [1, 2, 3]}\n",
      "{'num': [1, 2, 3], 'name': ['sa', 'ab', 'pu']}\n",
      "{'num': [1, 2, 3], 'name': ['sa', 'ab', 'pu'], 'items': {'num&name': [1, 2, 3, 4, 5, 6]}}\n"
     ]
    }
   ],
   "source": [
    "# dictinary\n",
    "\n",
    "dct = {}\n",
    "dct['num'] = [1,2,3]\n",
    "print(dct)\n",
    "dct['name'] = ['sa','ab','pu']\n",
    "print(dct)\n",
    "dct['items'] = {'num&name': [1,2,3,4,5,6]}\n",
    "print(dct)"
   ]
  },
  {
   "cell_type": "code",
   "execution_count": 70,
   "metadata": {},
   "outputs": [
    {
     "name": "stdout",
     "output_type": "stream",
     "text": [
      "before update:  {'A': 100, 'B': 300}\n",
      "after update:  {'A': 100, 'B': 400, 'C': 600}\n"
     ]
    }
   ],
   "source": [
    "dct1 = {'A': 100,'B': 300}\n",
    "dct2 = {'B': 400, 'C': 600}\n",
    "print(\"before update: \",dct1)\n",
    "dct1.update(dct2)\n",
    "print(\"after update: \",dct1)"
   ]
  },
  {
   "cell_type": "code",
   "execution_count": 89,
   "metadata": {},
   "outputs": [
    {
     "name": "stdout",
     "output_type": "stream",
     "text": [
      "{'Name': ['Abhisek', 'Satyam', 'Puru'], 'Roll': ['229', '176', '198'], 'Stream': ['enter stream: ', 'enter stream: ', 'enter stream: '], 'Marks': ['50', '80', '45']}\n"
     ]
    }
   ],
   "source": [
    "# write a program to insert the details of 4 students by the following details\n",
    "# 1. Name : [\"ABC\",\"DEF\"]\n",
    "# 2. Roll : [23, 45]\n",
    "# 3. Stream : [\"CSE\",\"ECE\"]\n",
    "# 4. Marks : [78, 76]\n",
    "# create the dictionary by taking input\n",
    "\n",
    "std_dict = {'Name': [], 'Roll': [], 'Stream': [], 'Marks': []}\n",
    "std_num = int(input('Enter the number of students: '))\n",
    "\n",
    "for i in range(std_num):\n",
    "   std_dict.get('Name').append(input(\"enter name: \"))\n",
    "   std_dict.get('Roll').append(input(\"enter Roll: \"))\n",
    "   std_dict.get('Stream').append(input(\"enter stream: \"))\n",
    "   std_dict.get('Marks').append(input(\"enter marks: \"))\n",
    "   # print(std_dict)\n",
    "\n",
    "print(std_dict)\n"
   ]
  },
  {
   "cell_type": "code",
   "execution_count": 99,
   "metadata": {},
   "outputs": [
    {
     "name": "stdout",
     "output_type": "stream",
     "text": [
      "list:  [1, 2, 3, 4.8, 5, 6]\n",
      "Array:  [1.  2.  3.  4.8 5.  6. ]\n"
     ]
    }
   ],
   "source": [
    "#Array\n",
    "\n",
    "import numpy as np\n",
    "\n",
    "list = [1,2,3,4.8,5,6]\n",
    "print(\"list: \", list)\n",
    "array = np.array(list)\n",
    "print(\"Array: \", array)\n"
   ]
  },
  {
   "cell_type": "code",
   "execution_count": 100,
   "metadata": {},
   "outputs": [
    {
     "name": "stdout",
     "output_type": "stream",
     "text": [
      "[[1 2 3]\n",
      " [4 5 6]\n",
      " [7 8 9]]\n"
     ]
    }
   ],
   "source": [
    "list = [[1,2,3],[4,5,6],[7,8,9]]\n",
    "arr = np.array(list)\n",
    "print(arr)"
   ]
  },
  {
   "cell_type": "code",
   "execution_count": null,
   "metadata": {},
   "outputs": [],
   "source": []
  }
 ],
 "metadata": {
  "interpreter": {
   "hash": "c569cd2e17f62341e0f08a54f9a867c3c0d3a6f67454072d7de41a8b5dff8343"
  },
  "kernelspec": {
   "display_name": "Python 3.9.6 64-bit",
   "language": "python",
   "name": "python3"
  },
  "language_info": {
   "codemirror_mode": {
    "name": "ipython",
    "version": 3
   },
   "file_extension": ".py",
   "mimetype": "text/x-python",
   "name": "python",
   "nbconvert_exporter": "python",
   "pygments_lexer": "ipython3",
   "version": "3.9.6"
  },
  "orig_nbformat": 4
 },
 "nbformat": 4,
 "nbformat_minor": 2
}
